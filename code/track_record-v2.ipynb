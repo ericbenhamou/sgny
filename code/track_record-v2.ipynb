{
 "cells": [
  {
   "cell_type": "markdown",
   "metadata": {},
   "source": [
    "# main function\n"
   ]
  },
  {
   "cell_type": "code",
   "execution_count": 1,
   "metadata": {},
   "outputs": [],
   "source": [
    "# -*- coding: utf-8 -*-\n",
    "\"\"\"\n",
    "Created on Thu Feb  4 16:56:55 2021\n",
    "Ai for Alpha\n",
    "Copyright Thu Aug  2021\n",
    "\"\"\"\n",
    "import pandas as pd\n",
    "import numpy as np\n",
    "import matplotlib.pyplot as plt\n",
    "\n",
    "'''\n",
    "compute strategy returns from weights\n",
    "- inputs returns, weights\n",
    "'''\n",
    "def portfolio_returns(returns, weights, cost, daylag=1):\n",
    "    if returns.shape[0] > weights.shape[0]:\n",
    "        returns = returns.loc[weights.index]\n",
    "    if type(returns) == pd.core.series.Series:\n",
    "        returns = returns.to_frame()\n",
    "    if type(weights) == pd.core.series.Series:\n",
    "        weights = weights.to_frame()\n",
    "    strategyReturn = returns * weights.shift(1 + daylag)\n",
    "    dfPreviousWeights = weights.shift(daylag)\n",
    "    transactionCost = (weights-dfPreviousWeights).mul(cost, axis=1).abs()\n",
    "    netStrategyReturns=strategyReturn-transactionCost\n",
    "    return netStrategyReturns\n",
    "\n",
    "'''\n",
    "compute strategy\n",
    "'''\n",
    "def compute_strategy(df, weights, cost=0, daylag=1):\n",
    "    returns = df.pct_change().fillna(0) \n",
    "    strat_returns = portfolio_returns(returns, weights, cost, daylag)\n",
    "    strategy = (1 + strat_returns.sum(axis=1).fillna(0)).cumprod().iloc[daylag:]\n",
    "    return strategy \n",
    "\n",
    "'''\n",
    "generic function to read data\n",
    "'''\n",
    "def read_data(filename):\n",
    "    df = pd.read_csv(f'..//data//{filename}', index_col=0, dayfirst=True, parse_dates=True)\n",
    "    return df"
   ]
  },
  {
   "cell_type": "markdown",
   "metadata": {},
   "source": [
    "# read data and allocations"
   ]
  },
  {
   "cell_type": "code",
   "execution_count": 2,
   "metadata": {},
   "outputs": [],
   "source": [
    "prices = read_data('strategies-v2.csv')\n",
    "dfWeights = read_data('weights-v2.csv')\n",
    "cost = 0.0005 # 5 bps\n",
    "# round weights!\n",
    "track_record = compute_strategy(prices, dfWeights, cost=cost, daylag=5)\n",
    "track_record.name = 'AI for Alpha'"
   ]
  },
  {
   "cell_type": "markdown",
   "metadata": {},
   "source": [
    "# read benchmark and reindex"
   ]
  },
  {
   "cell_type": "code",
   "execution_count": 3,
   "metadata": {},
   "outputs": [],
   "source": [
    "df_benchmark = read_data('benchmark.csv')\n",
    "# need to reindex as track record starts earlier!\n",
    "df_benchmark = df_benchmark / df_benchmark.iloc[0] * track_record.loc[df_benchmark.index[0]]\n",
    "df_benchmark = df_benchmark.reindex(track_record.index).fillna(method='ffill')\n",
    "df_benchmark.columns = ['Benchmark']"
   ]
  },
  {
   "cell_type": "markdown",
   "metadata": {},
   "source": [
    "# concatenate track and benchmark"
   ]
  },
  {
   "cell_type": "code",
   "execution_count": 4,
   "metadata": {},
   "outputs": [],
   "source": [
    "\n",
    "total_df = pd.concat([track_record, df_benchmark], axis=1)"
   ]
  },
  {
   "cell_type": "markdown",
   "metadata": {},
   "source": [
    "# plot"
   ]
  },
  {
   "cell_type": "code",
   "execution_count": 5,
   "metadata": {},
   "outputs": [
    {
     "data": {
      "image/png": "[encoded data removed]",
      "text/plain": [
       "<Figure size 864x432 with 1 Axes>"
      ]
     },
     "metadata": {
      "needs_background": "light"
     },
     "output_type": "display_data"
    },
    {
     "name": "stdout",
     "output_type": "stream",
     "text": [
      "last values\n",
      "AI for Alpha    10.721876\n",
      "Benchmark        5.115415\n",
      "Name: 2021-01-29 00:00:00, dtype: float64\n"
     ]
    }
   ],
   "source": [
    "SGColors = {'SG_Beige': \"#D6C292\",\n",
    "                'SG_Black': \"#17202A\",\n",
    "                'SG_Brown': \"#7B1D21\",\n",
    "                'SG_Brown2': \"#A66B02\",\n",
    "                'SG_DarkBeige': \"#BD9C4F\",\n",
    "                'SG_DarkGrey': \"#212F3D\",\n",
    "                'SG_Green': \"#2D575B\",\n",
    "                'SG_Grey': \"#C1BCBC\",\n",
    "                'SG_Grey2': \"#938A8A\",\n",
    "                'SG_LightTeal': \"#B8D8DC\",\n",
    "                'SG_MidGrey': \"#566573\",\n",
    "                'SG_Red': \"#E60028\",\n",
    "                'SG_Red2': \"#D65258\",\n",
    "                'SG_Teal': \"#519BA5\",\n",
    "                'SG_Tomato': \"#E38A8E\",\n",
    "                'SG_LightGrey': \"#D3D3D3\"}    \n",
    "total_df.plot(figsize=(12,6), color =[SGColors['SG_Red'], \n",
    "            SGColors['SG_Brown']],\n",
    "    fontsize=14,)\n",
    "plt.show()\n",
    "\n",
    "print('last values')\n",
    "print(total_df.iloc[-1])\n"
   ]
  },
  {
   "cell_type": "markdown",
   "metadata": {},
   "source": [
    "# save results"
   ]
  },
  {
   "cell_type": "code",
   "execution_count": 6,
   "metadata": {},
   "outputs": [],
   "source": [
    "track_record.to_csv('../data/track_record-v2.csv')"
   ]
  }
 ],
 "metadata": {
  "kernelspec": {
   "display_name": "Python 3",
   "language": "python",
   "name": "python3"
  },
  "language_info": {
   "codemirror_mode": {
    "name": "ipython",
    "version": 3
   },
   "file_extension": ".py",
   "mimetype": "text/x-python",
   "name": "python",
   "nbconvert_exporter": "python",
   "pygments_lexer": "ipython3",
   "version": "3.7.4"
  },
  "toc": {
   "base_numbering": 1,
   "nav_menu": {},
   "number_sections": true,
   "sideBar": true,
   "skip_h1_title": false,
   "title_cell": "Table of Contents",
   "title_sidebar": "Contents",
   "toc_cell": false,
   "toc_position": {},
   "toc_section_display": true,
   "toc_window_display": false
  }
 },
 "nbformat": 4,
 "nbformat_minor": 2
}
